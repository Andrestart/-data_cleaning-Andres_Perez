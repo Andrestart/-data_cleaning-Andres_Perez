{
 "cells": [
  {
   "cell_type": "code",
   "execution_count": 1,
   "id": "3d38bed3",
   "metadata": {},
   "outputs": [],
   "source": [
    "import pandas as pd\n",
    "import src.cleaning_functions as cf\n",
    "import re\n",
    "import numpy as np"
   ]
  },
  {
   "cell_type": "markdown",
   "id": "0dc517f4",
   "metadata": {},
   "source": [
    "I load my csv file that contains the raw data."
   ]
  },
  {
   "cell_type": "code",
   "execution_count": 2,
   "id": "7f82cf6b",
   "metadata": {},
   "outputs": [],
   "source": [
    "df = pd.read_csv(\"data/attacks.csv\",encoding = \"ISO-8859-1\")"
   ]
  },
  {
   "cell_type": "markdown",
   "id": "69b2135a",
   "metadata": {},
   "source": [
    "I explore 3 random rows in the dataframe."
   ]
  },
  {
   "cell_type": "code",
   "execution_count": 3,
   "id": "cd472445",
   "metadata": {},
   "outputs": [
    {
     "data": {
      "text/html": [
       "<div>\n",
       "<style scoped>\n",
       "    .dataframe tbody tr th:only-of-type {\n",
       "        vertical-align: middle;\n",
       "    }\n",
       "\n",
       "    .dataframe tbody tr th {\n",
       "        vertical-align: top;\n",
       "    }\n",
       "\n",
       "    .dataframe thead th {\n",
       "        text-align: right;\n",
       "    }\n",
       "</style>\n",
       "<table border=\"1\" class=\"dataframe\">\n",
       "  <thead>\n",
       "    <tr style=\"text-align: right;\">\n",
       "      <th></th>\n",
       "      <th>Case Number</th>\n",
       "      <th>Date</th>\n",
       "      <th>Year</th>\n",
       "      <th>Type</th>\n",
       "      <th>Country</th>\n",
       "      <th>Area</th>\n",
       "      <th>Location</th>\n",
       "      <th>Activity</th>\n",
       "      <th>Name</th>\n",
       "      <th>Sex</th>\n",
       "      <th>...</th>\n",
       "      <th>Species</th>\n",
       "      <th>Investigator or Source</th>\n",
       "      <th>pdf</th>\n",
       "      <th>href formula</th>\n",
       "      <th>href</th>\n",
       "      <th>Case Number.1</th>\n",
       "      <th>Case Number.2</th>\n",
       "      <th>original order</th>\n",
       "      <th>Unnamed: 22</th>\n",
       "      <th>Unnamed: 23</th>\n",
       "    </tr>\n",
       "  </thead>\n",
       "  <tbody>\n",
       "    <tr>\n",
       "      <th>23382</th>\n",
       "      <td>NaN</td>\n",
       "      <td>NaN</td>\n",
       "      <td>NaN</td>\n",
       "      <td>NaN</td>\n",
       "      <td>NaN</td>\n",
       "      <td>NaN</td>\n",
       "      <td>NaN</td>\n",
       "      <td>NaN</td>\n",
       "      <td>NaN</td>\n",
       "      <td>NaN</td>\n",
       "      <td>...</td>\n",
       "      <td>NaN</td>\n",
       "      <td>NaN</td>\n",
       "      <td>NaN</td>\n",
       "      <td>NaN</td>\n",
       "      <td>NaN</td>\n",
       "      <td>NaN</td>\n",
       "      <td>NaN</td>\n",
       "      <td>NaN</td>\n",
       "      <td>NaN</td>\n",
       "      <td>NaN</td>\n",
       "    </tr>\n",
       "    <tr>\n",
       "      <th>12613</th>\n",
       "      <td>NaN</td>\n",
       "      <td>NaN</td>\n",
       "      <td>NaN</td>\n",
       "      <td>NaN</td>\n",
       "      <td>NaN</td>\n",
       "      <td>NaN</td>\n",
       "      <td>NaN</td>\n",
       "      <td>NaN</td>\n",
       "      <td>NaN</td>\n",
       "      <td>NaN</td>\n",
       "      <td>...</td>\n",
       "      <td>NaN</td>\n",
       "      <td>NaN</td>\n",
       "      <td>NaN</td>\n",
       "      <td>NaN</td>\n",
       "      <td>NaN</td>\n",
       "      <td>NaN</td>\n",
       "      <td>NaN</td>\n",
       "      <td>NaN</td>\n",
       "      <td>NaN</td>\n",
       "      <td>NaN</td>\n",
       "    </tr>\n",
       "    <tr>\n",
       "      <th>2096</th>\n",
       "      <td>1999.10.01</td>\n",
       "      <td>01-Oct-1999</td>\n",
       "      <td>1999.0</td>\n",
       "      <td>Unprovoked</td>\n",
       "      <td>USA</td>\n",
       "      <td>Hawaii</td>\n",
       "      <td>Old Kona Airport State Park</td>\n",
       "      <td>Surfing, lying on surfboard</td>\n",
       "      <td>Jesse Spencer</td>\n",
       "      <td>M</td>\n",
       "      <td>...</td>\n",
       "      <td>Tiger shark, 1.8 m to 2.4 m [6' to 8']</td>\n",
       "      <td>Star Bulletin</td>\n",
       "      <td>1999.10.01-Spencer.pdf</td>\n",
       "      <td>http://sharkattackfile.net/spreadsheets/pdf_di...</td>\n",
       "      <td>http://sharkattackfile.net/spreadsheets/pdf_di...</td>\n",
       "      <td>1999.10.01</td>\n",
       "      <td>1999.10.01</td>\n",
       "      <td>4207.0</td>\n",
       "      <td>NaN</td>\n",
       "      <td>NaN</td>\n",
       "    </tr>\n",
       "  </tbody>\n",
       "</table>\n",
       "<p>3 rows × 24 columns</p>\n",
       "</div>"
      ],
      "text/plain": [
       "      Case Number         Date    Year        Type Country    Area  \\\n",
       "23382         NaN          NaN     NaN         NaN     NaN     NaN   \n",
       "12613         NaN          NaN     NaN         NaN     NaN     NaN   \n",
       "2096   1999.10.01  01-Oct-1999  1999.0  Unprovoked     USA  Hawaii   \n",
       "\n",
       "                          Location                     Activity  \\\n",
       "23382                          NaN                          NaN   \n",
       "12613                          NaN                          NaN   \n",
       "2096   Old Kona Airport State Park  Surfing, lying on surfboard   \n",
       "\n",
       "                Name Sex   ...                                 Species   \\\n",
       "23382            NaN  NaN  ...                                      NaN   \n",
       "12613            NaN  NaN  ...                                      NaN   \n",
       "2096   Jesse Spencer    M  ...  Tiger shark, 1.8 m to 2.4 m [6' to 8']    \n",
       "\n",
       "      Investigator or Source                     pdf  \\\n",
       "23382                    NaN                     NaN   \n",
       "12613                    NaN                     NaN   \n",
       "2096           Star Bulletin  1999.10.01-Spencer.pdf   \n",
       "\n",
       "                                            href formula  \\\n",
       "23382                                                NaN   \n",
       "12613                                                NaN   \n",
       "2096   http://sharkattackfile.net/spreadsheets/pdf_di...   \n",
       "\n",
       "                                                    href Case Number.1  \\\n",
       "23382                                                NaN           NaN   \n",
       "12613                                                NaN           NaN   \n",
       "2096   http://sharkattackfile.net/spreadsheets/pdf_di...    1999.10.01   \n",
       "\n",
       "      Case Number.2 original order Unnamed: 22 Unnamed: 23  \n",
       "23382           NaN            NaN         NaN         NaN  \n",
       "12613           NaN            NaN         NaN         NaN  \n",
       "2096     1999.10.01         4207.0         NaN         NaN  \n",
       "\n",
       "[3 rows x 24 columns]"
      ]
     },
     "execution_count": 3,
     "metadata": {},
     "output_type": "execute_result"
    }
   ],
   "source": [
    "df.sample(3)"
   ]
  },
  {
   "cell_type": "markdown",
   "id": "897ea8ed",
   "metadata": {},
   "source": [
    "I use my function \"prepare\" (see cf.prepare.__doc__) in the columns to ease the data analysis.\n",
    "Then I delete the rows where I only have Nan.\n",
    "I explore again 5 random rows to see the changes and I explore the number of Nan in my dataframe and the number of rows and columns using .shape mehtod."
   ]
  },
  {
   "cell_type": "code",
   "execution_count": 4,
   "id": "769d95da",
   "metadata": {},
   "outputs": [
    {
     "data": {
      "text/plain": [
       "(8703, 24)"
      ]
     },
     "execution_count": 4,
     "metadata": {},
     "output_type": "execute_result"
    }
   ],
   "source": [
    "df.columns = cf.prepare(df.columns)\n",
    "df.dropna(how=\"all\", inplace=True)\n",
    "df.head(5)\n",
    "df.isna().sum()\n",
    "df.shape"
   ]
  },
  {
   "cell_type": "markdown",
   "id": "17f16fe0",
   "metadata": {},
   "source": [
    "During data exploration, I realised the column \"unnamed : 22\" has a single entry that is not NaN, so I explore it. The entry is \"stopped here\", which is not useful, so I decide to delete the column."
   ]
  },
  {
   "cell_type": "code",
   "execution_count": 5,
   "id": "fa253670",
   "metadata": {},
   "outputs": [],
   "source": [
    "unnamed22NaN=df[\"unnamed:_22\"].unique()\n",
    "unnamed22NaN\n",
    "df.drop([\"unnamed:_22\"], axis=1, inplace=True)"
   ]
  },
  {
   "cell_type": "markdown",
   "id": "00d97923",
   "metadata": {},
   "source": [
    "I also realised the column \"unnamed : 23\" has only 2 entries that are not NaN, so I explore them.\n",
    "The entries are 'Teramo' and 'change filename', which are not useful, so I decide to delete the column."
   ]
  },
  {
   "cell_type": "code",
   "execution_count": 6,
   "id": "b4d0ec40",
   "metadata": {},
   "outputs": [],
   "source": [
    "unnamed23NaN=df[\"unnamed:_23\"].unique()\n",
    "unnamed23NaN\n",
    "df.drop([\"unnamed:_23\"], axis=1, inplace=True)"
   ]
  },
  {
   "cell_type": "markdown",
   "id": "6a72021d",
   "metadata": {},
   "source": [
    "I save the columns in a variable  that includes links to webs in case I had to use them and delete the columns from the dataframe"
   ]
  },
  {
   "cell_type": "code",
   "execution_count": 7,
   "id": "78cac2d1",
   "metadata": {},
   "outputs": [],
   "source": [
    "pdfcol = df[\"href_formula\"],df[\"href\"]\n",
    "df.drop([\"href_formula\",\"href\"],axis=1, inplace=True)"
   ]
  },
  {
   "cell_type": "markdown",
   "id": "b7b68c91",
   "metadata": {},
   "source": [
    "Now that I have explored more about my data, I decide that my hypothesis will be:"
   ]
  },
  {
   "cell_type": "markdown",
   "id": "15e06f26",
   "metadata": {},
   "source": [
    "Are surfers the most targeted by sharks?"
   ]
  },
  {
   "cell_type": "markdown",
   "id": "792bf009",
   "metadata": {},
   "source": [
    "Do sharks attack more often in Australia on summer?"
   ]
  },
  {
   "cell_type": "markdown",
   "id": "5a9a71aa",
   "metadata": {},
   "source": [
    "In order to prove my hypothesis, I delete the columns that are not relevant for my study. Then, I delete the rows where there is only NaN."
   ]
  },
  {
   "cell_type": "code",
   "execution_count": 8,
   "id": "ac7358f1",
   "metadata": {},
   "outputs": [],
   "source": [
    "df.drop([\"case_number\", \"year\", \"type\", \"area\", \"location\", \"name\", \"sex\",\"age\", \"injury\", \"time\",\"species\", \"investigator_or_source\",\"pdf\", \"case_number.1\",\"case_number.2\", \"original_order\"],axis=1, inplace=True)\n",
    "df.dropna(how=\"all\", inplace=True)"
   ]
  },
  {
   "cell_type": "markdown",
   "id": "ad2674c2",
   "metadata": {},
   "source": [
    "In order to work with the column \"fatal_(y/n)\" I use my function \"strdata\" (see cf.prepare.__doc__)to cast the data into string so I can use my function \"prepare\" (see cf.prepare.__doc__) to ease the data analysis. Then, I use my function fatal (see cf.fatal.__doc__) to unify the registers into the categories \"yes\", \"no\", or Nan."
   ]
  },
  {
   "cell_type": "code",
   "execution_count": 9,
   "id": "f204b483",
   "metadata": {},
   "outputs": [],
   "source": [
    "df[\"fatal_(y/n)\"] = cf.strdata(df[\"fatal_(y/n)\"])\n",
    "df[\"fatal_(y/n)\"] = cf.prepare(df[\"fatal_(y/n)\"])\n",
    "\n",
    "df[\"fatal_(y/n)\"] = (df[\"fatal_(y/n)\"]).apply(cf.fatal)"
   ]
  },
  {
   "cell_type": "markdown",
   "id": "00bc67cd",
   "metadata": {},
   "source": [
    "I will use my funtion  \"strdata\" to convert to string the data in the column \"country\" and be able to use \"prepare\" function in \"activity\" column."
   ]
  },
  {
   "cell_type": "code",
   "execution_count": 10,
   "id": "67eb568c",
   "metadata": {},
   "outputs": [],
   "source": [
    "df.activity = cf.strdata(df.activity)\n",
    "df.activity = cf.prepare(df.activity)"
   ]
  },
  {
   "cell_type": "markdown",
   "id": "07b99e36",
   "metadata": {},
   "source": [
    "I  will  use my function \"unify\" to classify the data that tells me the same information into a single string so I can count its occurrence. Every register in the \"activity\" column that contains the words \"surf\" will become \"surfing\".\n",
    "I will repeat the same process for every column."
   ]
  },
  {
   "cell_type": "code",
   "execution_count": 11,
   "id": "8c826a41",
   "metadata": {},
   "outputs": [],
   "source": [
    "#I unify in the category \"surf\"\n",
    "list_surfing = [\"surf\"]\n",
    "for i in list_surfing:\n",
    "    df.activity = cf.unify(df.activity,i,\"surfing\")\n",
    "\n",
    "#I unify in the category \"swimming\"\n",
    "list_swimming = [\"swim\", \"diving\", \"bath\", \"bathing\", \"dive\",\"scuba\", \"snorkel\"]\n",
    "for i in list_swimming:\n",
    "    df.activity = cf.unify(df.activity,i,\"swimming\")\n",
    "\n",
    "#I unify in the category \"fishing\"\n",
    "list_fishing = [\"fish\", \"line\"]\n",
    "for i in list_fishing:\n",
    "    df.activity = cf.unify(df.activity,i,\"fishing\")\n",
    "\n",
    "#I unify in the category \"boat\"\n",
    "list_boat = [\"boat\", \"yacht\", \"ship\",\"sail\"]\n",
    "for i in list_boat:\n",
    "    df.activity = cf.unify(df.activity,i,\"boat\")\n",
    "\n",
    "#I unify in the category \"walking on the water\"\n",
    "list_walkonwater = [\"wad\", \"stand\", \"walk\"]\n",
    "for i in list_walkonwater:\n",
    "    df.activity = cf.unify(df.activity,i,\"walking on the water\")\n",
    "\n",
    "#I unify in the category \"taking photographs or filming\"\n",
    "list_photo = [\"photo\", \"picture\",\"film\", \"record\"]\n",
    "for i in list_photo:\n",
    "    df.activity = cf.unify(df.activity,i,\"taking photographs or filming\")"
   ]
  },
  {
   "cell_type": "markdown",
   "id": "27450f6f",
   "metadata": {},
   "source": [
    "I will use my function \"act\" to unify my data and add \"other_activities\" where the activities are a minority and not as repeated."
   ]
  },
  {
   "cell_type": "code",
   "execution_count": 12,
   "id": "50da5f71",
   "metadata": {},
   "outputs": [],
   "source": [
    "df.activity = df.activity.apply(cf.act)"
   ]
  },
  {
   "cell_type": "markdown",
   "id": "4d3bfb6a",
   "metadata": {},
   "source": [
    "I will use my funtion  \"strdata\" to convert to string the data in the column \"country\" and be able to use \"prepare\" function."
   ]
  },
  {
   "cell_type": "code",
   "execution_count": 13,
   "id": "4f323c95",
   "metadata": {},
   "outputs": [
    {
     "data": {
      "text/html": [
       "<div>\n",
       "<style scoped>\n",
       "    .dataframe tbody tr th:only-of-type {\n",
       "        vertical-align: middle;\n",
       "    }\n",
       "\n",
       "    .dataframe tbody tr th {\n",
       "        vertical-align: top;\n",
       "    }\n",
       "\n",
       "    .dataframe thead th {\n",
       "        text-align: right;\n",
       "    }\n",
       "</style>\n",
       "<table border=\"1\" class=\"dataframe\">\n",
       "  <thead>\n",
       "    <tr style=\"text-align: right;\">\n",
       "      <th></th>\n",
       "      <th>date</th>\n",
       "      <th>country</th>\n",
       "      <th>activity</th>\n",
       "      <th>fatal_(y/n)</th>\n",
       "    </tr>\n",
       "  </thead>\n",
       "  <tbody>\n",
       "    <tr>\n",
       "      <th>0</th>\n",
       "      <td>25-Jun-2018</td>\n",
       "      <td>usa</td>\n",
       "      <td>other_activities</td>\n",
       "      <td>no</td>\n",
       "    </tr>\n",
       "    <tr>\n",
       "      <th>1</th>\n",
       "      <td>18-Jun-2018</td>\n",
       "      <td>usa</td>\n",
       "      <td>other_activities</td>\n",
       "      <td>no</td>\n",
       "    </tr>\n",
       "    <tr>\n",
       "      <th>2</th>\n",
       "      <td>09-Jun-2018</td>\n",
       "      <td>usa</td>\n",
       "      <td>surfing</td>\n",
       "      <td>no</td>\n",
       "    </tr>\n",
       "    <tr>\n",
       "      <th>3</th>\n",
       "      <td>08-Jun-2018</td>\n",
       "      <td>australia</td>\n",
       "      <td>surfing</td>\n",
       "      <td>no</td>\n",
       "    </tr>\n",
       "    <tr>\n",
       "      <th>4</th>\n",
       "      <td>04-Jun-2018</td>\n",
       "      <td>mexico</td>\n",
       "      <td>swimming</td>\n",
       "      <td>no</td>\n",
       "    </tr>\n",
       "  </tbody>\n",
       "</table>\n",
       "</div>"
      ],
      "text/plain": [
       "          date    country          activity fatal_(y/n)\n",
       "0  25-Jun-2018        usa  other_activities          no\n",
       "1  18-Jun-2018        usa  other_activities          no\n",
       "2  09-Jun-2018        usa           surfing          no\n",
       "3  08-Jun-2018  australia           surfing          no\n",
       "4  04-Jun-2018     mexico          swimming          no"
      ]
     },
     "execution_count": 13,
     "metadata": {},
     "output_type": "execute_result"
    }
   ],
   "source": [
    "df.country = cf.strdata(df.country)\n",
    "df.country = cf.prepare(df.country)\n",
    "df.head()"
   ]
  },
  {
   "cell_type": "markdown",
   "id": "ec575978",
   "metadata": {},
   "source": [
    "I will use my funtion  \"strdata\" to convert to string the data in the column \"date\" and be able to use \"prepare\" function."
   ]
  },
  {
   "cell_type": "markdown",
   "id": "c26c66f8",
   "metadata": {},
   "source": [
    "Then, I use my \"getmonth\" function to get create a new column including only the name of the months. After that, I apply my function \"australia\" to create a new column where only \"australia\" or Nan will appear."
   ]
  },
  {
   "cell_type": "code",
   "execution_count": 14,
   "id": "464d0d2e",
   "metadata": {},
   "outputs": [
    {
     "data": {
      "text/html": [
       "<div>\n",
       "<style scoped>\n",
       "    .dataframe tbody tr th:only-of-type {\n",
       "        vertical-align: middle;\n",
       "    }\n",
       "\n",
       "    .dataframe tbody tr th {\n",
       "        vertical-align: top;\n",
       "    }\n",
       "\n",
       "    .dataframe thead th {\n",
       "        text-align: right;\n",
       "    }\n",
       "</style>\n",
       "<table border=\"1\" class=\"dataframe\">\n",
       "  <thead>\n",
       "    <tr style=\"text-align: right;\">\n",
       "      <th></th>\n",
       "      <th>date</th>\n",
       "      <th>country</th>\n",
       "      <th>activity</th>\n",
       "      <th>fatal_(y/n)</th>\n",
       "      <th>month</th>\n",
       "      <th>australia</th>\n",
       "    </tr>\n",
       "  </thead>\n",
       "  <tbody>\n",
       "    <tr>\n",
       "      <th>0</th>\n",
       "      <td>25-jun-2018</td>\n",
       "      <td>usa</td>\n",
       "      <td>other_activities</td>\n",
       "      <td>no</td>\n",
       "      <td>june</td>\n",
       "      <td>NaN</td>\n",
       "    </tr>\n",
       "    <tr>\n",
       "      <th>1</th>\n",
       "      <td>18-jun-2018</td>\n",
       "      <td>usa</td>\n",
       "      <td>other_activities</td>\n",
       "      <td>no</td>\n",
       "      <td>june</td>\n",
       "      <td>NaN</td>\n",
       "    </tr>\n",
       "    <tr>\n",
       "      <th>2</th>\n",
       "      <td>09-jun-2018</td>\n",
       "      <td>usa</td>\n",
       "      <td>surfing</td>\n",
       "      <td>no</td>\n",
       "      <td>june</td>\n",
       "      <td>NaN</td>\n",
       "    </tr>\n",
       "    <tr>\n",
       "      <th>3</th>\n",
       "      <td>08-jun-2018</td>\n",
       "      <td>australia</td>\n",
       "      <td>surfing</td>\n",
       "      <td>no</td>\n",
       "      <td>june</td>\n",
       "      <td>australia</td>\n",
       "    </tr>\n",
       "    <tr>\n",
       "      <th>4</th>\n",
       "      <td>04-jun-2018</td>\n",
       "      <td>mexico</td>\n",
       "      <td>swimming</td>\n",
       "      <td>no</td>\n",
       "      <td>june</td>\n",
       "      <td>NaN</td>\n",
       "    </tr>\n",
       "  </tbody>\n",
       "</table>\n",
       "</div>"
      ],
      "text/plain": [
       "          date    country          activity fatal_(y/n) month  australia\n",
       "0  25-jun-2018        usa  other_activities          no  june        NaN\n",
       "1  18-jun-2018        usa  other_activities          no  june        NaN\n",
       "2  09-jun-2018        usa           surfing          no  june        NaN\n",
       "3  08-jun-2018  australia           surfing          no  june  australia\n",
       "4  04-jun-2018     mexico          swimming          no  june        NaN"
      ]
     },
     "execution_count": 14,
     "metadata": {},
     "output_type": "execute_result"
    }
   ],
   "source": [
    "df.date = cf.strdata(df.date)\n",
    "df.date = cf.prepare(df.date)\n",
    "\n",
    "df[\"month\"] = df.date.apply(cf.getmonth)\n",
    "df[\"australia\"] = df.country.apply(cf.australia)\n",
    "df.head()"
   ]
  },
  {
   "cell_type": "markdown",
   "id": "d629da5d",
   "metadata": {},
   "source": [
    "I save \"df\" dataframe in a csv file."
   ]
  },
  {
   "cell_type": "code",
   "execution_count": 15,
   "id": "d9debf5b",
   "metadata": {},
   "outputs": [],
   "source": [
    "df.to_csv(\"graphs_and_tables/df.csv\")"
   ]
  },
  {
   "cell_type": "markdown",
   "id": "baf09a8d",
   "metadata": {},
   "source": [
    "I create a copy of the dataframe to work with it and leave the old one as it is. Then, I eliminate the columns \"date\" and \"country\" because I don't need them anymore for my studies."
   ]
  },
  {
   "cell_type": "code",
   "execution_count": 16,
   "id": "dd94b3e1",
   "metadata": {},
   "outputs": [
    {
     "data": {
      "text/html": [
       "<div>\n",
       "<style scoped>\n",
       "    .dataframe tbody tr th:only-of-type {\n",
       "        vertical-align: middle;\n",
       "    }\n",
       "\n",
       "    .dataframe tbody tr th {\n",
       "        vertical-align: top;\n",
       "    }\n",
       "\n",
       "    .dataframe thead th {\n",
       "        text-align: right;\n",
       "    }\n",
       "</style>\n",
       "<table border=\"1\" class=\"dataframe\">\n",
       "  <thead>\n",
       "    <tr style=\"text-align: right;\">\n",
       "      <th></th>\n",
       "      <th>activity</th>\n",
       "      <th>fatal_(y/n)</th>\n",
       "      <th>month</th>\n",
       "      <th>australia</th>\n",
       "    </tr>\n",
       "  </thead>\n",
       "  <tbody>\n",
       "    <tr>\n",
       "      <th>4685</th>\n",
       "      <td>swimming</td>\n",
       "      <td>no</td>\n",
       "      <td>NaN</td>\n",
       "      <td>NaN</td>\n",
       "    </tr>\n",
       "    <tr>\n",
       "      <th>5404</th>\n",
       "      <td>swimming</td>\n",
       "      <td>no</td>\n",
       "      <td>march</td>\n",
       "      <td>NaN</td>\n",
       "    </tr>\n",
       "    <tr>\n",
       "      <th>1346</th>\n",
       "      <td>other_activities</td>\n",
       "      <td>no</td>\n",
       "      <td>august</td>\n",
       "      <td>NaN</td>\n",
       "    </tr>\n",
       "    <tr>\n",
       "      <th>1366</th>\n",
       "      <td>other_activities</td>\n",
       "      <td>no</td>\n",
       "      <td>july</td>\n",
       "      <td>NaN</td>\n",
       "    </tr>\n",
       "  </tbody>\n",
       "</table>\n",
       "</div>"
      ],
      "text/plain": [
       "              activity fatal_(y/n)   month australia\n",
       "4685          swimming          no     NaN       NaN\n",
       "5404          swimming          no   march       NaN\n",
       "1346  other_activities          no  august       NaN\n",
       "1366  other_activities          no    july       NaN"
      ]
     },
     "execution_count": 16,
     "metadata": {},
     "output_type": "execute_result"
    }
   ],
   "source": [
    "dfaus = df.copy()\n",
    "dfaus.drop([\"date\",\"country\"], axis=1, inplace=True)\n",
    "dfaus.sample(4)"
   ]
  },
  {
   "cell_type": "markdown",
   "id": "88b6e8de",
   "metadata": {},
   "source": [
    "I will create a new column called \"season\", where \"summer\" will appear if the \"month\" column is December, January or February (these are the \"southern\" summer months). It will do the same with the other seasons."
   ]
  },
  {
   "cell_type": "code",
   "execution_count": 17,
   "id": "088eb1ea",
   "metadata": {},
   "outputs": [
    {
     "data": {
      "text/html": [
       "<div>\n",
       "<style scoped>\n",
       "    .dataframe tbody tr th:only-of-type {\n",
       "        vertical-align: middle;\n",
       "    }\n",
       "\n",
       "    .dataframe tbody tr th {\n",
       "        vertical-align: top;\n",
       "    }\n",
       "\n",
       "    .dataframe thead th {\n",
       "        text-align: right;\n",
       "    }\n",
       "</style>\n",
       "<table border=\"1\" class=\"dataframe\">\n",
       "  <thead>\n",
       "    <tr style=\"text-align: right;\">\n",
       "      <th></th>\n",
       "      <th>activity</th>\n",
       "      <th>fatal_(y/n)</th>\n",
       "      <th>month</th>\n",
       "      <th>australia</th>\n",
       "      <th>season</th>\n",
       "    </tr>\n",
       "  </thead>\n",
       "  <tbody>\n",
       "    <tr>\n",
       "      <th>0</th>\n",
       "      <td>other_activities</td>\n",
       "      <td>no</td>\n",
       "      <td>june</td>\n",
       "      <td>NaN</td>\n",
       "      <td>winter</td>\n",
       "    </tr>\n",
       "    <tr>\n",
       "      <th>1</th>\n",
       "      <td>other_activities</td>\n",
       "      <td>no</td>\n",
       "      <td>june</td>\n",
       "      <td>NaN</td>\n",
       "      <td>winter</td>\n",
       "    </tr>\n",
       "    <tr>\n",
       "      <th>2</th>\n",
       "      <td>surfing</td>\n",
       "      <td>no</td>\n",
       "      <td>june</td>\n",
       "      <td>NaN</td>\n",
       "      <td>winter</td>\n",
       "    </tr>\n",
       "    <tr>\n",
       "      <th>3</th>\n",
       "      <td>surfing</td>\n",
       "      <td>no</td>\n",
       "      <td>june</td>\n",
       "      <td>australia</td>\n",
       "      <td>winter</td>\n",
       "    </tr>\n",
       "    <tr>\n",
       "      <th>4</th>\n",
       "      <td>swimming</td>\n",
       "      <td>no</td>\n",
       "      <td>june</td>\n",
       "      <td>NaN</td>\n",
       "      <td>winter</td>\n",
       "    </tr>\n",
       "  </tbody>\n",
       "</table>\n",
       "</div>"
      ],
      "text/plain": [
       "           activity fatal_(y/n) month  australia  season\n",
       "0  other_activities          no  june        NaN  winter\n",
       "1  other_activities          no  june        NaN  winter\n",
       "2           surfing          no  june        NaN  winter\n",
       "3           surfing          no  june  australia  winter\n",
       "4          swimming          no  june        NaN  winter"
      ]
     },
     "execution_count": 17,
     "metadata": {},
     "output_type": "execute_result"
    }
   ],
   "source": [
    "dfaus[\"season\"] = dfaus.month.apply(cf.season)\n",
    "dfaus.head()"
   ]
  },
  {
   "cell_type": "markdown",
   "id": "21b640c7",
   "metadata": {},
   "source": [
    "I save dataframe \"dfaus\" in a csv file."
   ]
  },
  {
   "cell_type": "code",
   "execution_count": 18,
   "id": "219e2b46",
   "metadata": {},
   "outputs": [],
   "source": [
    "dfaus.to_csv(\"graphs_and_tables/dfaus.csv\")"
   ]
  },
  {
   "cell_type": "markdown",
   "id": "995df343",
   "metadata": {},
   "source": [
    "I create a copy of the former dataframe called \"dfhist\". Then I use my function \"strdata\" to cast my data into string and be able to work with it. After that, I apply my function \"actnan\" to add Nan where my activities are not met."
   ]
  },
  {
   "cell_type": "code",
   "execution_count": 19,
   "id": "b7c5addf",
   "metadata": {},
   "outputs": [],
   "source": [
    "dfhist = df.copy()\n",
    "\n",
    "dfhist[\"activity\"] = cf.strdata(dfhist.activity)\n",
    "dfhist[\"activity\"] = dfhist.activity.apply(cf.actnan)"
   ]
  },
  {
   "cell_type": "markdown",
   "id": "1628a422",
   "metadata": {},
   "source": [
    "I delete the columns that I don't need for my study and I change the NaN values for the word \"unknown\"."
   ]
  },
  {
   "cell_type": "code",
   "execution_count": 20,
   "id": "7ee3c898",
   "metadata": {},
   "outputs": [
    {
     "data": {
      "text/html": [
       "<div>\n",
       "<style scoped>\n",
       "    .dataframe tbody tr th:only-of-type {\n",
       "        vertical-align: middle;\n",
       "    }\n",
       "\n",
       "    .dataframe tbody tr th {\n",
       "        vertical-align: top;\n",
       "    }\n",
       "\n",
       "    .dataframe thead th {\n",
       "        text-align: right;\n",
       "    }\n",
       "</style>\n",
       "<table border=\"1\" class=\"dataframe\">\n",
       "  <thead>\n",
       "    <tr style=\"text-align: right;\">\n",
       "      <th></th>\n",
       "      <th>activity</th>\n",
       "      <th>fatal_(y/n)</th>\n",
       "    </tr>\n",
       "  </thead>\n",
       "  <tbody>\n",
       "    <tr>\n",
       "      <th>0</th>\n",
       "      <td>NaN</td>\n",
       "      <td>no</td>\n",
       "    </tr>\n",
       "    <tr>\n",
       "      <th>1</th>\n",
       "      <td>NaN</td>\n",
       "      <td>no</td>\n",
       "    </tr>\n",
       "    <tr>\n",
       "      <th>2</th>\n",
       "      <td>surfing</td>\n",
       "      <td>no</td>\n",
       "    </tr>\n",
       "    <tr>\n",
       "      <th>3</th>\n",
       "      <td>surfing</td>\n",
       "      <td>no</td>\n",
       "    </tr>\n",
       "    <tr>\n",
       "      <th>4</th>\n",
       "      <td>swimming</td>\n",
       "      <td>no</td>\n",
       "    </tr>\n",
       "  </tbody>\n",
       "</table>\n",
       "</div>"
      ],
      "text/plain": [
       "   activity fatal_(y/n)\n",
       "0       NaN          no\n",
       "1       NaN          no\n",
       "2   surfing          no\n",
       "3   surfing          no\n",
       "4  swimming          no"
      ]
     },
     "execution_count": 20,
     "metadata": {},
     "output_type": "execute_result"
    }
   ],
   "source": [
    "dfhist.drop([\"date\",\"country\",\"month\",\"australia\"], axis=1, inplace=True)\n",
    "dfhist[\"fatal_(y/n)\"].fillna(\"unknown\", inplace=True)\n",
    "dfhist.head()"
   ]
  },
  {
   "cell_type": "markdown",
   "id": "e5135f2d",
   "metadata": {},
   "source": [
    "I save the \"dfhist\" table in a csv a file."
   ]
  },
  {
   "cell_type": "code",
   "execution_count": 21,
   "id": "9aa4d07d",
   "metadata": {},
   "outputs": [],
   "source": [
    "dfhist.to_csv(\"graphs_and_tables/dfhist.csv\")"
   ]
  }
 ],
 "metadata": {
  "kernelspec": {
   "display_name": "iron",
   "language": "python",
   "name": "iron"
  },
  "language_info": {
   "codemirror_mode": {
    "name": "ipython",
    "version": 3
   },
   "file_extension": ".py",
   "mimetype": "text/x-python",
   "name": "python",
   "nbconvert_exporter": "python",
   "pygments_lexer": "ipython3",
   "version": "3.9.7"
  }
 },
 "nbformat": 4,
 "nbformat_minor": 5
}
